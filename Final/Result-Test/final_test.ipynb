{
 "cells": [
  {
   "cell_type": "code",
   "execution_count": 1,
   "metadata": {},
   "outputs": [],
   "source": [
    "from rpy2.robjects import r\n",
    "import rpy2.robjects as robjects\n",
    "import sys\n",
    "from datetime import datetime"
   ]
  },
  {
   "cell_type": "code",
   "execution_count": 2,
   "metadata": {},
   "outputs": [],
   "source": [
    "import pandas as pd\n",
    "df = pd.read_csv(\"result_survival.csv\", encoding=\"UTF-8\")"
   ]
  },
  {
   "cell_type": "code",
   "execution_count": 3,
   "metadata": {},
   "outputs": [],
   "source": [
    "for i in range(len(df)):\n",
    "    df.loc[i, 'establish_date_str']=str(df.loc[i,'establish_date']).split('.')[0]"
   ]
  },
  {
   "cell_type": "code",
   "execution_count": 4,
   "metadata": {
    "scrolled": false
   },
   "outputs": [
    {
     "data": {
      "text/html": [
       "<div>\n",
       "<style scoped>\n",
       "    .dataframe tbody tr th:only-of-type {\n",
       "        vertical-align: middle;\n",
       "    }\n",
       "\n",
       "    .dataframe tbody tr th {\n",
       "        vertical-align: top;\n",
       "    }\n",
       "\n",
       "    .dataframe thead th {\n",
       "        text-align: right;\n",
       "    }\n",
       "</style>\n",
       "<table border=\"1\" class=\"dataframe\">\n",
       "  <thead>\n",
       "    <tr style=\"text-align: right;\">\n",
       "      <th></th>\n",
       "      <th>ked_code</th>\n",
       "      <th>business_number</th>\n",
       "      <th>establish_date</th>\n",
       "      <th>avg_credit_payment_ratio</th>\n",
       "      <th>avg_credit_payment_period</th>\n",
       "      <th>credit_grade</th>\n",
       "      <th>suspension_date</th>\n",
       "      <th>avg_working_year</th>\n",
       "      <th>avg_employee_count</th>\n",
       "      <th>avg_rent_deposite</th>\n",
       "      <th>...</th>\n",
       "      <th>listing_YN</th>\n",
       "      <th>recent_date</th>\n",
       "      <th>accounts_receivable</th>\n",
       "      <th>asset</th>\n",
       "      <th>debt</th>\n",
       "      <th>net_income</th>\n",
       "      <th>non_current_liabilities</th>\n",
       "      <th>operating_profit</th>\n",
       "      <th>sales</th>\n",
       "      <th>establish_date_str</th>\n",
       "    </tr>\n",
       "  </thead>\n",
       "  <tbody>\n",
       "    <tr>\n",
       "      <th>0</th>\n",
       "      <td>9010609986</td>\n",
       "      <td>3110384463</td>\n",
       "      <td>20111104.0</td>\n",
       "      <td>NaN</td>\n",
       "      <td>NaN</td>\n",
       "      <td>18.0</td>\n",
       "      <td>NaN</td>\n",
       "      <td>0.0</td>\n",
       "      <td>NaN</td>\n",
       "      <td>0.0</td>\n",
       "      <td>...</td>\n",
       "      <td>Y</td>\n",
       "      <td>NaN</td>\n",
       "      <td>NaN</td>\n",
       "      <td>NaN</td>\n",
       "      <td>NaN</td>\n",
       "      <td>NaN</td>\n",
       "      <td>NaN</td>\n",
       "      <td>NaN</td>\n",
       "      <td>NaN</td>\n",
       "      <td>20111104</td>\n",
       "    </tr>\n",
       "    <tr>\n",
       "      <th>1</th>\n",
       "      <td>2624117</td>\n",
       "      <td>6029074217</td>\n",
       "      <td>20140520.0</td>\n",
       "      <td>0.0</td>\n",
       "      <td>0.0</td>\n",
       "      <td>NaN</td>\n",
       "      <td>NaN</td>\n",
       "      <td>NaN</td>\n",
       "      <td>NaN</td>\n",
       "      <td>0.0</td>\n",
       "      <td>...</td>\n",
       "      <td>Y</td>\n",
       "      <td>NaN</td>\n",
       "      <td>NaN</td>\n",
       "      <td>NaN</td>\n",
       "      <td>NaN</td>\n",
       "      <td>NaN</td>\n",
       "      <td>NaN</td>\n",
       "      <td>NaN</td>\n",
       "      <td>NaN</td>\n",
       "      <td>20140520</td>\n",
       "    </tr>\n",
       "    <tr>\n",
       "      <th>2</th>\n",
       "      <td>9011039453</td>\n",
       "      <td>4102937030</td>\n",
       "      <td>19861212.0</td>\n",
       "      <td>NaN</td>\n",
       "      <td>NaN</td>\n",
       "      <td>NaN</td>\n",
       "      <td>NaN</td>\n",
       "      <td>0.0</td>\n",
       "      <td>NaN</td>\n",
       "      <td>0.0</td>\n",
       "      <td>...</td>\n",
       "      <td>N</td>\n",
       "      <td>NaN</td>\n",
       "      <td>NaN</td>\n",
       "      <td>NaN</td>\n",
       "      <td>NaN</td>\n",
       "      <td>NaN</td>\n",
       "      <td>NaN</td>\n",
       "      <td>NaN</td>\n",
       "      <td>NaN</td>\n",
       "      <td>19861212</td>\n",
       "    </tr>\n",
       "    <tr>\n",
       "      <th>3</th>\n",
       "      <td>1388321</td>\n",
       "      <td>1200866035</td>\n",
       "      <td>20051109.0</td>\n",
       "      <td>NaN</td>\n",
       "      <td>NaN</td>\n",
       "      <td>11.0</td>\n",
       "      <td>NaN</td>\n",
       "      <td>0.0</td>\n",
       "      <td>3.0</td>\n",
       "      <td>0.0</td>\n",
       "      <td>...</td>\n",
       "      <td>Y</td>\n",
       "      <td>NaN</td>\n",
       "      <td>NaN</td>\n",
       "      <td>NaN</td>\n",
       "      <td>NaN</td>\n",
       "      <td>NaN</td>\n",
       "      <td>NaN</td>\n",
       "      <td>NaN</td>\n",
       "      <td>NaN</td>\n",
       "      <td>20051109</td>\n",
       "    </tr>\n",
       "    <tr>\n",
       "      <th>4</th>\n",
       "      <td>720349</td>\n",
       "      <td>1221037451</td>\n",
       "      <td>20030728.0</td>\n",
       "      <td>0.0</td>\n",
       "      <td>19.4</td>\n",
       "      <td>22.0</td>\n",
       "      <td>NaN</td>\n",
       "      <td>0.0</td>\n",
       "      <td>3.5</td>\n",
       "      <td>0.0</td>\n",
       "      <td>...</td>\n",
       "      <td>N</td>\n",
       "      <td>NaN</td>\n",
       "      <td>NaN</td>\n",
       "      <td>NaN</td>\n",
       "      <td>NaN</td>\n",
       "      <td>NaN</td>\n",
       "      <td>NaN</td>\n",
       "      <td>NaN</td>\n",
       "      <td>NaN</td>\n",
       "      <td>20030728</td>\n",
       "    </tr>\n",
       "  </tbody>\n",
       "</table>\n",
       "<p>5 rows × 27 columns</p>\n",
       "</div>"
      ],
      "text/plain": [
       "     ked_code  business_number  establish_date  avg_credit_payment_ratio  \\\n",
       "0  9010609986       3110384463      20111104.0                       NaN   \n",
       "1     2624117       6029074217      20140520.0                       0.0   \n",
       "2  9011039453       4102937030      19861212.0                       NaN   \n",
       "3     1388321       1200866035      20051109.0                       NaN   \n",
       "4      720349       1221037451      20030728.0                       0.0   \n",
       "\n",
       "   avg_credit_payment_period  credit_grade  suspension_date  avg_working_year  \\\n",
       "0                        NaN          18.0              NaN               0.0   \n",
       "1                        0.0           NaN              NaN               NaN   \n",
       "2                        NaN           NaN              NaN               0.0   \n",
       "3                        NaN          11.0              NaN               0.0   \n",
       "4                       19.4          22.0              NaN               0.0   \n",
       "\n",
       "   avg_employee_count  avg_rent_deposite  ...  listing_YN  recent_date  \\\n",
       "0                 NaN                0.0  ...           Y          NaN   \n",
       "1                 NaN                0.0  ...           Y          NaN   \n",
       "2                 NaN                0.0  ...           N          NaN   \n",
       "3                 3.0                0.0  ...           Y          NaN   \n",
       "4                 3.5                0.0  ...           N          NaN   \n",
       "\n",
       "   accounts_receivable  asset  debt  net_income  non_current_liabilities  \\\n",
       "0                  NaN    NaN   NaN         NaN                      NaN   \n",
       "1                  NaN    NaN   NaN         NaN                      NaN   \n",
       "2                  NaN    NaN   NaN         NaN                      NaN   \n",
       "3                  NaN    NaN   NaN         NaN                      NaN   \n",
       "4                  NaN    NaN   NaN         NaN                      NaN   \n",
       "\n",
       "  operating_profit  sales  establish_date_str  \n",
       "0              NaN    NaN            20111104  \n",
       "1              NaN    NaN            20140520  \n",
       "2              NaN    NaN            19861212  \n",
       "3              NaN    NaN            20051109  \n",
       "4              NaN    NaN            20030728  \n",
       "\n",
       "[5 rows x 27 columns]"
      ]
     },
     "execution_count": 4,
     "metadata": {},
     "output_type": "execute_result"
    }
   ],
   "source": [
    "df.head()"
   ]
  },
  {
   "cell_type": "code",
   "execution_count": 5,
   "metadata": {},
   "outputs": [],
   "source": [
    "df = df[['ked_code', 'business_number', 'establish_date_str', 'share_holders_count', 'accounts_receivable', 'suspension_date']]"
   ]
  },
  {
   "cell_type": "code",
   "execution_count": 6,
   "metadata": {},
   "outputs": [],
   "source": [
    "df['bankruptcy']=df['suspension_date'].notnull()"
   ]
  },
  {
   "cell_type": "code",
   "execution_count": 7,
   "metadata": {},
   "outputs": [],
   "source": [
    "df=df[['ked_code', 'business_number', 'establish_date_str', 'share_holders_count', 'accounts_receivable', 'bankruptcy']]"
   ]
  },
  {
   "cell_type": "code",
   "execution_count": 8,
   "metadata": {},
   "outputs": [],
   "source": [
    "df=df.dropna(axis=0)"
   ]
  },
  {
   "cell_type": "code",
   "execution_count": 9,
   "metadata": {},
   "outputs": [],
   "source": [
    "result = pd.DataFrame(columns=['ked_code', 'predict', 'bankruptcy'])"
   ]
  },
  {
   "cell_type": "code",
   "execution_count": 10,
   "metadata": {},
   "outputs": [],
   "source": [
    "zipped_df = zip(range(len(df)),df['ked_code'],df['establish_date_str'], df['share_holders_count'], df['accounts_receivable'], df['bankruptcy'])"
   ]
  },
  {
   "cell_type": "code",
   "execution_count": 11,
   "metadata": {},
   "outputs": [
    {
     "name": "stderr",
     "output_type": "stream",
     "text": [
      "R[write to console]: 필요한 패키지를 로딩중입니다: ggpubr\n",
      "\n",
      "R[write to console]: 필요한 패키지를 로딩중입니다: magrittr\n",
      "\n",
      "R[write to console]: 필요한 패키지를 로딩중입니다: carData\n",
      "\n",
      "R[write to console]: 필요한 패키지를 로딩중입니다: grid\n",
      "\n",
      "R[write to console]: 필요한 패키지를 로딩중입니다: mvtnorm\n",
      "\n",
      "R[write to console]: 필요한 패키지를 로딩중입니다: modeltools\n",
      "\n",
      "R[write to console]: 필요한 패키지를 로딩중입니다: stats4\n",
      "\n",
      "R[write to console]: \n",
      "다음의 패키지를 부착합니다: ‘modeltools’\n",
      "\n",
      "\n",
      "R[write to console]: The following object is masked from ‘package:car’:\n",
      "\n",
      "    Predict\n",
      "\n",
      "\n",
      "R[write to console]: 필요한 패키지를 로딩중입니다: strucchange\n",
      "\n",
      "R[write to console]: 필요한 패키지를 로딩중입니다: zoo\n",
      "\n",
      "R[write to console]: \n",
      "다음의 패키지를 부착합니다: ‘zoo’\n",
      "\n",
      "\n",
      "R[write to console]: The following objects are masked from ‘package:base’:\n",
      "\n",
      "    as.Date, as.Date.numeric\n",
      "\n",
      "\n",
      "R[write to console]: 필요한 패키지를 로딩중입니다: sandwich\n",
      "\n"
     ]
    }
   ],
   "source": [
    "# r에서의 모듈 임포트\n",
    "r(\"library(KMsurv)\")\n",
    "r(\"library(survival)\")\n",
    "r(\"library(ggplot2)\")\n",
    "r(\"library(survminer)\")\n",
    "r(\"library(car)\")\n",
    "r(\"library(maxstat)\")\n",
    "r(\"library(party)\")\n",
    "for company in (list(zipped_df)):\n",
    "    share_holders_count = company[3]\n",
    "    accounts_receivable = company[4]\n",
    "    established_date_string = company[2]\n",
    "    # 쿼리가 완료된 csv 파일 로드\n",
    "    r(\"df = read.csv('result_survival.csv',header=T)\")\n",
    "\n",
    "    # 전처리\n",
    "    r(\"df[,\\\"failure\\\"] = ifelse(is.na(df$suspension_date),0,1)\")\n",
    "    r(\"df$suspension_date = ifelse(is.na(df$suspension_date),\\\"20200205\\\",df$suspension_date)\")\n",
    "    r(\"df$establish_date=as.character(df$establish_date)\")\n",
    "    r(\"df[,\\\"time\\\"] = as.integer(as.Date(df$suspension_date,format=\\\"%Y%m%d\\\")-as.Date(df$establish_date,format = \\\"%Y%m%d\\\"))\")\n",
    "    r(\"data=df[,c(\\\"ked_code\\\",\\\"business_number\\\",\\\"debt\\\",\\\"accounts_receivable\\\",\\\"avg_credit_payment_ratio\\\",\\\"share_holders_count\\\",\\\"non_current_liabilities\\\",\\\"operating_profit\\\",\\\"failure\\\",\\\"time\\\")]\")\n",
    "    r(\"data<-na.omit(data)\")\n",
    "    r(\"data2 <- df[,c(\\\"ked_code\\\",\\\"business_number\\\",\\\"accounts_receivable\\\",\\\"share_holders_count\\\",\\\"failure\\\",\\\"time\\\")]\")\n",
    "    r(\"data2 <- na.omit(data2)\")\n",
    "    r(\"test<-coxph(Surv(time,failure)~share_holders_count+accounts_receivable,data=data2)\")\n",
    "    r(\"predict<-survfit(test,c(share_holders_count=\" + str(share_holders_count) + \",accounts_receivable=\" + str(accounts_receivable) + \"))\")\n",
    "\n",
    "\n",
    "    predict = robjects.r['predict']\n",
    "    today = datetime.today()\n",
    "    established_date = datetime.strptime(established_date_string, '%Y%m%d')\n",
    "    operation_days = (today-established_date).days\n",
    "\n",
    "    times = predict[1]\n",
    "    survs = predict[5]\n",
    "\n",
    "    min_diff = sys.maxsize\n",
    "    min_index = -1\n",
    "    surv_probability=\"측정 불가\"\n",
    "    for i in range(len(times)):\n",
    "        diff = abs(times[i]-operation_days)\n",
    "        if(diff<min_diff):\n",
    "            min_diff = diff\n",
    "            min_index = i\n",
    "    if(min_index==-1):\n",
    "        continue\n",
    "    else:\n",
    "        surv_probability = survs[min_index]\n",
    "    row = [company[1], surv_probability, company[5]]\n",
    "    result.loc[len(result)]=row"
   ]
  },
  {
   "cell_type": "code",
   "execution_count": 12,
   "metadata": {
    "scrolled": false
   },
   "outputs": [
    {
     "data": {
      "text/html": [
       "<div>\n",
       "<style scoped>\n",
       "    .dataframe tbody tr th:only-of-type {\n",
       "        vertical-align: middle;\n",
       "    }\n",
       "\n",
       "    .dataframe tbody tr th {\n",
       "        vertical-align: top;\n",
       "    }\n",
       "\n",
       "    .dataframe thead th {\n",
       "        text-align: right;\n",
       "    }\n",
       "</style>\n",
       "<table border=\"1\" class=\"dataframe\">\n",
       "  <thead>\n",
       "    <tr style=\"text-align: right;\">\n",
       "      <th></th>\n",
       "      <th>ked_code</th>\n",
       "      <th>predict</th>\n",
       "      <th>bankruptcy</th>\n",
       "    </tr>\n",
       "  </thead>\n",
       "  <tbody>\n",
       "    <tr>\n",
       "      <th>0</th>\n",
       "      <td>211080</td>\n",
       "      <td>0.575896</td>\n",
       "      <td>False</td>\n",
       "    </tr>\n",
       "    <tr>\n",
       "      <th>1</th>\n",
       "      <td>258477</td>\n",
       "      <td>0.529004</td>\n",
       "      <td>False</td>\n",
       "    </tr>\n",
       "    <tr>\n",
       "      <th>2</th>\n",
       "      <td>602757</td>\n",
       "      <td>0.731473</td>\n",
       "      <td>False</td>\n",
       "    </tr>\n",
       "    <tr>\n",
       "      <th>3</th>\n",
       "      <td>504204</td>\n",
       "      <td>0.061190</td>\n",
       "      <td>False</td>\n",
       "    </tr>\n",
       "    <tr>\n",
       "      <th>4</th>\n",
       "      <td>245617</td>\n",
       "      <td>0.170900</td>\n",
       "      <td>False</td>\n",
       "    </tr>\n",
       "  </tbody>\n",
       "</table>\n",
       "</div>"
      ],
      "text/plain": [
       "  ked_code   predict bankruptcy\n",
       "0   211080  0.575896      False\n",
       "1   258477  0.529004      False\n",
       "2   602757  0.731473      False\n",
       "3   504204  0.061190      False\n",
       "4   245617  0.170900      False"
      ]
     },
     "execution_count": 12,
     "metadata": {},
     "output_type": "execute_result"
    }
   ],
   "source": [
    "result.head()"
   ]
  },
  {
   "cell_type": "code",
   "execution_count": 13,
   "metadata": {},
   "outputs": [
    {
     "data": {
      "text/plain": [
       "0.6747607500252583"
      ]
     },
     "execution_count": 13,
     "metadata": {},
     "output_type": "execute_result"
    }
   ],
   "source": [
    "# 이렇게 평균값으로 해 봤을 때, 정확도 36%..개망\n",
    "result['predict'].mean()"
   ]
  },
  {
   "cell_type": "code",
   "execution_count": 14,
   "metadata": {},
   "outputs": [
    {
     "data": {
      "text/plain": [
       "293"
      ]
     },
     "execution_count": 14,
     "metadata": {},
     "output_type": "execute_result"
    }
   ],
   "source": [
    "result[result.bankruptcy==True].count()['bankruptcy']"
   ]
  },
  {
   "cell_type": "code",
   "execution_count": 15,
   "metadata": {
    "scrolled": true
   },
   "outputs": [],
   "source": [
    "def hit_ratio(result):\n",
    "    predict_critic = result['predict'].mean()\n",
    "    predict = result['predict']\n",
    "    bankruptcy = result['bankruptcy']\n",
    "    \n",
    "    true_true = 0\n",
    "    true_false = 0\n",
    "    false_true = 0\n",
    "    false_false = 0\n",
    "    \n",
    "    for i in range(len(predict)):\n",
    "        # 이게 파산한다고 예측한 경우. 생존 확률이 평균보다 작다.\n",
    "        if(predict[i]<predict_critic):\n",
    "            # 근데 파산한 경우\n",
    "            if(bankruptcy[i]==True):\n",
    "                true_true = true_true + 1\n",
    "            # 근데 파산하지 않은 경우\n",
    "            else:\n",
    "                false_true = false_true + 1\n",
    "        # 이게 파산하지 않는다고 예측한 경우\n",
    "        else:\n",
    "            if(bankruptcy[i]==True):\n",
    "                true_false = true_false + 1\n",
    "            else:\n",
    "                false_false = false_false + 1\n",
    "    \n",
    "    hit_ratio_result = (true_true+false_false)/len(result)\n",
    "    \n",
    "    print(\"--------------정확도 측정 결과--------------\")\n",
    "    print(\"      예측          True        False\")\n",
    "    print(\"실제\")\n",
    "    print(\"True               \" + str(true_true) + \"          \" + str(true_false))\n",
    "    print(\"False              \" + str(false_true) + \"          \" + str(false_false))\n",
    "    print(\"hit ratio는 \" + str(true_true+false_false) + \" / \" + str(len(result)) + \" = \" + str(hit_ratio_result) + \"% 입니다.\")"
   ]
  },
  {
   "cell_type": "code",
   "execution_count": 16,
   "metadata": {},
   "outputs": [
    {
     "name": "stdout",
     "output_type": "stream",
     "text": [
      "--------------정확도 측정 결과--------------\n",
      "      예측          True        False\n",
      "실제\n",
      "True               178          115\n",
      "False              107          214\n",
      "hit ratio는 392 / 614 = 0.6384364820846905% 입니다.\n"
     ]
    }
   ],
   "source": [
    "hit_ratio(result)"
   ]
  },
  {
   "cell_type": "code",
   "execution_count": null,
   "metadata": {},
   "outputs": [],
   "source": []
  },
  {
   "cell_type": "code",
   "execution_count": null,
   "metadata": {},
   "outputs": [],
   "source": []
  }
 ],
 "metadata": {
  "kernelspec": {
   "display_name": "Python 3",
   "language": "python",
   "name": "python3"
  },
  "language_info": {
   "codemirror_mode": {
    "name": "ipython",
    "version": 3
   },
   "file_extension": ".py",
   "mimetype": "text/x-python",
   "name": "python",
   "nbconvert_exporter": "python",
   "pygments_lexer": "ipython3",
   "version": "3.7.6"
  }
 },
 "nbformat": 4,
 "nbformat_minor": 4
}
